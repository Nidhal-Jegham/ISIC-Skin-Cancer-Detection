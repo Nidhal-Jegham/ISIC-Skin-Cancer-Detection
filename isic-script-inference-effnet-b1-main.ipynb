{
 "cells": [
  {
   "cell_type": "markdown",
   "id": "f6a9fe9d",
   "metadata": {
    "papermill": {
     "duration": 0.008366,
     "end_time": "2024-09-04T23:57:34.548904",
     "exception": false,
     "start_time": "2024-09-04T23:57:34.540538",
     "status": "completed"
    },
    "tags": []
   },
   "source": [
    "- [Training notebook](https://www.kaggle.com/code/motono0223/isic-pytorch-training-baseline-image-only)\n",
    "- Inference notebook (This notebook)"
   ]
  },
  {
   "cell_type": "code",
   "execution_count": null,
   "id": "91f7b03d",
   "metadata": {
    "papermill": {
     "duration": 0.007242,
     "end_time": "2024-09-04T23:57:34.563863",
     "exception": false,
     "start_time": "2024-09-04T23:57:34.556621",
     "status": "completed"
    },
    "tags": []
   },
   "outputs": [],
   "source": []
  },
  {
   "cell_type": "markdown",
   "id": "1b632391",
   "metadata": {
    "papermill": {
     "duration": 0.007239,
     "end_time": "2024-09-04T23:57:34.578559",
     "exception": false,
     "start_time": "2024-09-04T23:57:34.571320",
     "status": "completed"
    },
    "tags": []
   },
   "source": [
    "# <span><h1 style = \"font-family: garamond; font-size: 40px; font-style: normal; letter-spcaing: 3px; background-color: #f6f5f5; color :#fe346e; border-radius: 100px 100px; text-align:center\">Import Required Libraries 📚</h1></span>"
   ]
  },
  {
   "cell_type": "code",
   "execution_count": 1,
   "id": "3c73d943",
   "metadata": {
    "execution": {
     "iopub.execute_input": "2024-09-04T23:57:34.595433Z",
     "iopub.status.busy": "2024-09-04T23:57:34.594740Z",
     "iopub.status.idle": "2024-09-04T23:57:34.606894Z",
     "shell.execute_reply": "2024-09-04T23:57:34.605827Z"
    },
    "papermill": {
     "duration": 0.022776,
     "end_time": "2024-09-04T23:57:34.608807",
     "exception": false,
     "start_time": "2024-09-04T23:57:34.586031",
     "status": "completed"
    },
    "tags": []
   },
   "outputs": [
    {
     "name": "stdout",
     "output_type": "stream",
     "text": [
      "Writing main.py\n"
     ]
    }
   ],
   "source": [
    "%%writefile main.py\n",
    "import os\n",
    "import gc\n",
    "import cv2\n",
    "import math\n",
    "import copy\n",
    "import time\n",
    "import random\n",
    "import glob\n",
    "from matplotlib import pyplot as plt\n",
    "import torch.nn as nn\n",
    "\n",
    "import h5py\n",
    "from PIL import Image\n",
    "from io import BytesIO\n",
    "\n",
    "# For data manipulation\n",
    "import numpy as np\n",
    "import pandas as pd\n",
    "\n",
    "# Pytorch Imports\n",
    "import torch\n",
    "import torch.nn as nn\n",
    "import torch.optim as optim\n",
    "import torch.nn.functional as F\n",
    "from torch.optim import lr_scheduler\n",
    "from torch.utils.data import Dataset, DataLoader\n",
    "from torch.cuda import amp\n",
    "import torchvision\n",
    "\n",
    "# Utils\n",
    "import joblib\n",
    "from tqdm import tqdm\n",
    "from collections import defaultdict\n",
    "\n",
    "# Sklearn Imports\n",
    "from sklearn.preprocessing import LabelEncoder\n",
    "from sklearn.model_selection import StratifiedKFold\n",
    "\n",
    "# For Image Models\n",
    "import timm\n",
    "\n",
    "# Albumentations for augmentations\n",
    "import albumentations as A\n",
    "from albumentations.pytorch import ToTensorV2\n",
    "\n",
    "# For colored terminal text\n",
    "from colorama import Fore, Back, Style\n",
    "b_ = Fore.BLUE\n",
    "sr_ = Style.RESET_ALL\n",
    "\n",
    "import warnings\n",
    "warnings.filterwarnings(\"ignore\")\n",
    "\n",
    "# For descriptive error messages\n",
    "os.environ['CUDA_LAUNCH_BLOCKING'] = \"1\""
   ]
  },
  {
   "cell_type": "code",
   "execution_count": 2,
   "id": "6484a46a",
   "metadata": {
    "execution": {
     "iopub.execute_input": "2024-09-04T23:57:34.626242Z",
     "iopub.status.busy": "2024-09-04T23:57:34.625928Z",
     "iopub.status.idle": "2024-09-04T23:57:34.631281Z",
     "shell.execute_reply": "2024-09-04T23:57:34.630473Z"
    },
    "papermill": {
     "duration": 0.016424,
     "end_time": "2024-09-04T23:57:34.633283",
     "exception": false,
     "start_time": "2024-09-04T23:57:34.616859",
     "status": "completed"
    },
    "tags": []
   },
   "outputs": [
    {
     "name": "stdout",
     "output_type": "stream",
     "text": [
      "Appending to main.py\n"
     ]
    }
   ],
   "source": [
    "%%writefile -a main.py\n",
    "import sys\n",
    "BEST_WEIGHT = sys.argv[1]\n",
    "print(f\"BEST_WEIGHT = {BEST_WEIGHT}\")"
   ]
  },
  {
   "cell_type": "markdown",
   "id": "99083083",
   "metadata": {
    "papermill": {
     "duration": 0.007796,
     "end_time": "2024-09-04T23:57:34.649038",
     "exception": false,
     "start_time": "2024-09-04T23:57:34.641242",
     "status": "completed"
    },
    "tags": []
   },
   "source": [
    "# <span><h1 style = \"font-family: garamond; font-size: 40px; font-style: normal; letter-spcaing: 3px; background-color: #f6f5f5; color :#fe346e; border-radius: 100px 100px; text-align:center\">Training Configuration ⚙️</h1></span>"
   ]
  },
  {
   "cell_type": "code",
   "execution_count": 3,
   "id": "0fa8d6c2",
   "metadata": {
    "execution": {
     "iopub.execute_input": "2024-09-04T23:57:34.666616Z",
     "iopub.status.busy": "2024-09-04T23:57:34.666313Z",
     "iopub.status.idle": "2024-09-04T23:57:34.671420Z",
     "shell.execute_reply": "2024-09-04T23:57:34.670672Z"
    },
    "papermill": {
     "duration": 0.016073,
     "end_time": "2024-09-04T23:57:34.673293",
     "exception": false,
     "start_time": "2024-09-04T23:57:34.657220",
     "status": "completed"
    },
    "tags": []
   },
   "outputs": [
    {
     "name": "stdout",
     "output_type": "stream",
     "text": [
      "Appending to main.py\n"
     ]
    }
   ],
   "source": [
    "%%writefile -a main.py\n",
    "CONFIG = { \n",
    "    \"seed\": 42,\n",
    "    \"img_size\": 384,\n",
    "    \"model_name\": \"tf_efficientnet_b1\",\n",
    "    \"valid_batch_size\": 128,\n",
    "    \"device\": torch.device(\"cuda:0\" if torch.cuda.is_available() else \"cpu\"),\n",
    "}"
   ]
  },
  {
   "cell_type": "code",
   "execution_count": null,
   "id": "22ae17ee",
   "metadata": {
    "papermill": {
     "duration": 0.007835,
     "end_time": "2024-09-04T23:57:34.690597",
     "exception": false,
     "start_time": "2024-09-04T23:57:34.682762",
     "status": "completed"
    },
    "tags": []
   },
   "outputs": [],
   "source": []
  },
  {
   "cell_type": "markdown",
   "id": "285b3a58",
   "metadata": {
    "papermill": {
     "duration": 0.007533,
     "end_time": "2024-09-04T23:57:34.705985",
     "exception": false,
     "start_time": "2024-09-04T23:57:34.698452",
     "status": "completed"
    },
    "tags": []
   },
   "source": [
    "# <span><h1 style = \"font-family: garamond; font-size: 40px; font-style: normal; letter-spcaing: 3px; background-color: #f6f5f5; color :#fe346e; border-radius: 100px 100px; text-align:center\">Set Seed for Reproducibility</h1></span>"
   ]
  },
  {
   "cell_type": "code",
   "execution_count": 4,
   "id": "dd03a1c3",
   "metadata": {
    "execution": {
     "iopub.execute_input": "2024-09-04T23:57:34.723529Z",
     "iopub.status.busy": "2024-09-04T23:57:34.723180Z",
     "iopub.status.idle": "2024-09-04T23:57:34.728477Z",
     "shell.execute_reply": "2024-09-04T23:57:34.727648Z"
    },
    "papermill": {
     "duration": 0.016779,
     "end_time": "2024-09-04T23:57:34.730644",
     "exception": false,
     "start_time": "2024-09-04T23:57:34.713865",
     "status": "completed"
    },
    "tags": []
   },
   "outputs": [
    {
     "name": "stdout",
     "output_type": "stream",
     "text": [
      "Appending to main.py\n"
     ]
    }
   ],
   "source": [
    "%%writefile -a main.py\n",
    "def set_seed(seed=42):\n",
    "    '''Sets the seed of the entire notebook so results are the same every time we run.\n",
    "    This is for REPRODUCIBILITY.'''\n",
    "    np.random.seed(seed)\n",
    "    torch.manual_seed(seed)\n",
    "    torch.cuda.manual_seed(seed)\n",
    "    # When running on the CuDNN backend, two further options must be set\n",
    "    torch.backends.cudnn.deterministic = True\n",
    "    torch.backends.cudnn.benchmark = False\n",
    "    # Set a fixed value for the hash seed\n",
    "    os.environ['PYTHONHASHSEED'] = str(seed)\n",
    "    \n",
    "set_seed(CONFIG['seed'])"
   ]
  },
  {
   "cell_type": "code",
   "execution_count": 5,
   "id": "723c0b3b",
   "metadata": {
    "execution": {
     "iopub.execute_input": "2024-09-04T23:57:34.748301Z",
     "iopub.status.busy": "2024-09-04T23:57:34.747950Z",
     "iopub.status.idle": "2024-09-04T23:57:34.753321Z",
     "shell.execute_reply": "2024-09-04T23:57:34.752531Z"
    },
    "papermill": {
     "duration": 0.016438,
     "end_time": "2024-09-04T23:57:34.755410",
     "exception": false,
     "start_time": "2024-09-04T23:57:34.738972",
     "status": "completed"
    },
    "tags": []
   },
   "outputs": [
    {
     "name": "stdout",
     "output_type": "stream",
     "text": [
      "Appending to main.py\n"
     ]
    }
   ],
   "source": [
    "%%writefile -a main.py\n",
    "ROOT_DIR = \"/kaggle/input/isic-2024-challenge\"\n",
    "TRAIN_CSV = f'{ROOT_DIR}/train-metadata.csv'\n",
    "TRAIN_HDF = f'{ROOT_DIR}/train-image.hdf5'\n",
    "\n",
    "\n",
    "TEST_CSV = f'{ROOT_DIR}/test-metadata.csv'\n",
    "TEST_HDF = f'{ROOT_DIR}/test-image.hdf5'\n",
    "SAMPLE = f'{ROOT_DIR}/sample_submission.csv'\n",
    "\n",
    "#BEST_WEIGHT = \"/kaggle/input/work-isic-pytorch-training-baseline-eva02/AUROC0.5177_Loss0.2860_epoch14.bin\""
   ]
  },
  {
   "cell_type": "markdown",
   "id": "0d21e39f",
   "metadata": {
    "papermill": {
     "duration": 0.007771,
     "end_time": "2024-09-04T23:57:34.771489",
     "exception": false,
     "start_time": "2024-09-04T23:57:34.763718",
     "status": "completed"
    },
    "tags": []
   },
   "source": [
    "# <h1 style = \"font-family: garamond; font-size: 40px; font-style: normal; letter-spcaing: 3px; background-color: #f6f5f5; color :#fe346e; border-radius: 100px 100px; text-align:center\">Read the Data 📖</h1>"
   ]
  },
  {
   "cell_type": "code",
   "execution_count": 6,
   "id": "6db76288",
   "metadata": {
    "execution": {
     "iopub.execute_input": "2024-09-04T23:57:34.788690Z",
     "iopub.status.busy": "2024-09-04T23:57:34.788359Z",
     "iopub.status.idle": "2024-09-04T23:57:34.793608Z",
     "shell.execute_reply": "2024-09-04T23:57:34.792715Z"
    },
    "papermill": {
     "duration": 0.016056,
     "end_time": "2024-09-04T23:57:34.795430",
     "exception": false,
     "start_time": "2024-09-04T23:57:34.779374",
     "status": "completed"
    },
    "tags": []
   },
   "outputs": [
    {
     "name": "stdout",
     "output_type": "stream",
     "text": [
      "Appending to main.py\n"
     ]
    }
   ],
   "source": [
    "%%writefile -a main.py\n",
    "df = pd.read_csv(TEST_CSV)\n",
    "df['target'] = 0 # dummy\n",
    "df"
   ]
  },
  {
   "cell_type": "code",
   "execution_count": null,
   "id": "fdf226ae",
   "metadata": {
    "papermill": {
     "duration": 0.008095,
     "end_time": "2024-09-04T23:57:34.811639",
     "exception": false,
     "start_time": "2024-09-04T23:57:34.803544",
     "status": "completed"
    },
    "tags": []
   },
   "outputs": [],
   "source": []
  },
  {
   "cell_type": "code",
   "execution_count": 7,
   "id": "d8e20ce0",
   "metadata": {
    "execution": {
     "iopub.execute_input": "2024-09-04T23:57:34.830247Z",
     "iopub.status.busy": "2024-09-04T23:57:34.829880Z",
     "iopub.status.idle": "2024-09-04T23:57:34.835312Z",
     "shell.execute_reply": "2024-09-04T23:57:34.834403Z"
    },
    "papermill": {
     "duration": 0.017024,
     "end_time": "2024-09-04T23:57:34.837309",
     "exception": false,
     "start_time": "2024-09-04T23:57:34.820285",
     "status": "completed"
    },
    "tags": []
   },
   "outputs": [
    {
     "name": "stdout",
     "output_type": "stream",
     "text": [
      "Appending to main.py\n"
     ]
    }
   ],
   "source": [
    "%%writefile -a main.py\n",
    "df_sub = pd.read_csv(SAMPLE)\n",
    "df_sub"
   ]
  },
  {
   "cell_type": "markdown",
   "id": "6fe5a25a",
   "metadata": {
    "papermill": {
     "duration": 0.00808,
     "end_time": "2024-09-04T23:57:34.853629",
     "exception": false,
     "start_time": "2024-09-04T23:57:34.845549",
     "status": "completed"
    },
    "tags": []
   },
   "source": [
    "# <span><h1 style = \"font-family: garamond; font-size: 40px; font-style: normal; letter-spcaing: 3px; background-color: #f6f5f5; color :#fe346e; border-radius: 100px 100px; text-align:center\">Dataset Class</h1></span>"
   ]
  },
  {
   "cell_type": "code",
   "execution_count": 8,
   "id": "b69e139b",
   "metadata": {
    "execution": {
     "iopub.execute_input": "2024-09-04T23:57:34.871735Z",
     "iopub.status.busy": "2024-09-04T23:57:34.871365Z",
     "iopub.status.idle": "2024-09-04T23:57:34.877608Z",
     "shell.execute_reply": "2024-09-04T23:57:34.876599Z"
    },
    "papermill": {
     "duration": 0.017699,
     "end_time": "2024-09-04T23:57:34.879515",
     "exception": false,
     "start_time": "2024-09-04T23:57:34.861816",
     "status": "completed"
    },
    "tags": []
   },
   "outputs": [
    {
     "name": "stdout",
     "output_type": "stream",
     "text": [
      "Appending to main.py\n"
     ]
    }
   ],
   "source": [
    "%%writefile -a main.py\n",
    "class ISICDataset(Dataset):\n",
    "    def __init__(self, df, file_hdf, transforms=None):\n",
    "        self.df = df\n",
    "        self.fp_hdf = h5py.File(file_hdf, mode=\"r\")\n",
    "        self.isic_ids = df['isic_id'].values\n",
    "        self.targets = df['target'].values\n",
    "        self.transforms = transforms\n",
    "        \n",
    "    def __len__(self):\n",
    "        return len(self.isic_ids)\n",
    "    \n",
    "    def __getitem__(self, index):\n",
    "        isic_id = self.isic_ids[index]\n",
    "        img = np.array( Image.open(BytesIO(self.fp_hdf[isic_id][()])) )\n",
    "        target = self.targets[index]\n",
    "        \n",
    "        if self.transforms:\n",
    "            img = self.transforms(image=img)[\"image\"]\n",
    "            \n",
    "        return {\n",
    "            'image': img,\n",
    "            'target': target,\n",
    "        }"
   ]
  },
  {
   "cell_type": "markdown",
   "id": "a34788a6",
   "metadata": {
    "papermill": {
     "duration": 0.008083,
     "end_time": "2024-09-04T23:57:34.896123",
     "exception": false,
     "start_time": "2024-09-04T23:57:34.888040",
     "status": "completed"
    },
    "tags": []
   },
   "source": [
    "# <span><h1 style = \"font-family: garamond; font-size: 40px; font-style: normal; letter-spcaing: 3px; background-color: #f6f5f5; color :#fe346e; border-radius: 100px 100px; text-align:center\">Augmentations</h1></span>"
   ]
  },
  {
   "cell_type": "code",
   "execution_count": 9,
   "id": "30248284",
   "metadata": {
    "execution": {
     "iopub.execute_input": "2024-09-04T23:57:34.915037Z",
     "iopub.status.busy": "2024-09-04T23:57:34.914323Z",
     "iopub.status.idle": "2024-09-04T23:57:34.920541Z",
     "shell.execute_reply": "2024-09-04T23:57:34.919451Z"
    },
    "papermill": {
     "duration": 0.018147,
     "end_time": "2024-09-04T23:57:34.922590",
     "exception": false,
     "start_time": "2024-09-04T23:57:34.904443",
     "status": "completed"
    },
    "tags": []
   },
   "outputs": [
    {
     "name": "stdout",
     "output_type": "stream",
     "text": [
      "Appending to main.py\n"
     ]
    }
   ],
   "source": [
    "%%writefile -a main.py\n",
    "data_transforms = {\n",
    "    \"valid\": A.Compose([\n",
    "        A.Resize(CONFIG['img_size'], CONFIG['img_size']),\n",
    "        A.Normalize(\n",
    "                mean=[0.485, 0.456, 0.406], \n",
    "                std=[0.229, 0.224, 0.225], \n",
    "                max_pixel_value=255.0, \n",
    "                p=1.0\n",
    "            ),\n",
    "        ToTensorV2()], p=1.)\n",
    "}"
   ]
  },
  {
   "cell_type": "markdown",
   "id": "877c3205",
   "metadata": {
    "papermill": {
     "duration": 0.008151,
     "end_time": "2024-09-04T23:57:34.939296",
     "exception": false,
     "start_time": "2024-09-04T23:57:34.931145",
     "status": "completed"
    },
    "tags": []
   },
   "source": [
    "# <span><h1 style = \"font-family: garamond; font-size: 40px; font-style: normal; letter-spcaing: 3px; background-color: #f6f5f5; color :#fe346e; border-radius: 100px 100px; text-align:center\">Create Model</h1></span>"
   ]
  },
  {
   "cell_type": "code",
   "execution_count": 10,
   "id": "c47f391d",
   "metadata": {
    "execution": {
     "iopub.execute_input": "2024-09-04T23:57:34.957394Z",
     "iopub.status.busy": "2024-09-04T23:57:34.957056Z",
     "iopub.status.idle": "2024-09-04T23:57:34.963256Z",
     "shell.execute_reply": "2024-09-04T23:57:34.962423Z"
    },
    "papermill": {
     "duration": 0.017551,
     "end_time": "2024-09-04T23:57:34.965255",
     "exception": false,
     "start_time": "2024-09-04T23:57:34.947704",
     "status": "completed"
    },
    "tags": []
   },
   "outputs": [
    {
     "name": "stdout",
     "output_type": "stream",
     "text": [
      "Appending to main.py\n"
     ]
    }
   ],
   "source": [
    "%%writefile -a main.py\n",
    "\n",
    "class GeM(nn.Module):\n",
    "    def __init__(self, p=3, eps=1e-6):\n",
    "        super(GeM, self).__init__()\n",
    "        self.p = nn.Parameter(torch.ones(1)*p)\n",
    "        self.eps = eps\n",
    "\n",
    "    def forward(self, x):\n",
    "        return self.gem(x, p=self.p, eps=self.eps)\n",
    "        \n",
    "    def gem(self, x, p=3, eps=1e-6):\n",
    "        return F.avg_pool2d(x.clamp(min=eps).pow(p), (x.size(-2), x.size(-1))).pow(1./p)\n",
    "        \n",
    "    def __repr__(self):\n",
    "        return self.__class__.__name__ + \\\n",
    "                '(' + 'p=' + '{:.4f}'.format(self.p.data.tolist()[0]) + \\\n",
    "                ', ' + 'eps=' + str(self.eps) + ')'\n",
    "    \n",
    "    \n",
    "class ISICModel(nn.Module):\n",
    "    def __init__(self, model_name, num_classes=1, pretrained=True, checkpoint_path=None):\n",
    "        super(ISICModel, self).__init__()\n",
    "        self.model = timm.create_model(model_name, pretrained=pretrained, checkpoint_path=checkpoint_path)\n",
    "\n",
    "        in_features = self.model.classifier.in_features\n",
    "        self.model.classifier = nn.Identity()\n",
    "        self.model.global_pool = nn.Identity()\n",
    "        self.pooling = GeM()\n",
    "        self.linear = nn.Linear(in_features, num_classes)\n",
    "        self.sigmoid = nn.Sigmoid()\n",
    "\n",
    "    def forward(self, images):\n",
    "        features = self.model(images)\n",
    "        pooled_features = self.pooling(features).flatten(1)\n",
    "        output = self.sigmoid(self.linear(pooled_features))\n",
    "        return output\n",
    "    \n",
    "model = ISICModel(CONFIG['model_name'], pretrained=False)\n",
    "model.load_state_dict( torch.load(BEST_WEIGHT) )\n",
    "model.to(CONFIG['device']);"
   ]
  },
  {
   "cell_type": "markdown",
   "id": "67db66e1",
   "metadata": {
    "papermill": {
     "duration": 0.008263,
     "end_time": "2024-09-04T23:57:34.981901",
     "exception": false,
     "start_time": "2024-09-04T23:57:34.973638",
     "status": "completed"
    },
    "tags": []
   },
   "source": [
    "<span style=\"color: #000508; font-family: Segoe UI; font-size: 1.5em; font-weight: 300;\">Prepare Dataloaders</span>"
   ]
  },
  {
   "cell_type": "code",
   "execution_count": 11,
   "id": "9f758c38",
   "metadata": {
    "execution": {
     "iopub.execute_input": "2024-09-04T23:57:35.000058Z",
     "iopub.status.busy": "2024-09-04T23:57:34.999440Z",
     "iopub.status.idle": "2024-09-04T23:57:35.004954Z",
     "shell.execute_reply": "2024-09-04T23:57:35.003953Z"
    },
    "papermill": {
     "duration": 0.016835,
     "end_time": "2024-09-04T23:57:35.007003",
     "exception": false,
     "start_time": "2024-09-04T23:57:34.990168",
     "status": "completed"
    },
    "tags": []
   },
   "outputs": [
    {
     "name": "stdout",
     "output_type": "stream",
     "text": [
      "Appending to main.py\n"
     ]
    }
   ],
   "source": [
    "%%writefile -a main.py\n",
    "test_dataset = ISICDataset(df, TEST_HDF, transforms=data_transforms[\"valid\"])\n",
    "test_loader = DataLoader(test_dataset, batch_size=CONFIG['valid_batch_size'], \n",
    "                          num_workers=2, shuffle=False, pin_memory=True)"
   ]
  },
  {
   "cell_type": "code",
   "execution_count": 12,
   "id": "9157ab8d",
   "metadata": {
    "execution": {
     "iopub.execute_input": "2024-09-04T23:57:35.026186Z",
     "iopub.status.busy": "2024-09-04T23:57:35.025381Z",
     "iopub.status.idle": "2024-09-04T23:57:35.032600Z",
     "shell.execute_reply": "2024-09-04T23:57:35.031731Z"
    },
    "papermill": {
     "duration": 0.018797,
     "end_time": "2024-09-04T23:57:35.034530",
     "exception": false,
     "start_time": "2024-09-04T23:57:35.015733",
     "status": "completed"
    },
    "tags": []
   },
   "outputs": [
    {
     "data": {
      "text/plain": [
       "'\"%%writefile -a main.py\\ntrain_dataset = ISICDataset(df, TRAIN_HDF, transforms=data_transforms[\"valid\"])\\ntrain_loader = DataLoader(train_dataset, batch_size=CONFIG[\\'valid_batch_size\\'], \\n                          num_workers=2, shuffle=False, pin_memory=True)'"
      ]
     },
     "execution_count": 12,
     "metadata": {},
     "output_type": "execute_result"
    }
   ],
   "source": [
    "\"\"\"\"%%writefile -a main.py\n",
    "train_dataset = ISICDataset(df, TRAIN_HDF, transforms=data_transforms[\"valid\"])\n",
    "train_loader = DataLoader(train_dataset, batch_size=CONFIG['valid_batch_size'], \n",
    "                          num_workers=2, shuffle=False, pin_memory=True)\"\"\""
   ]
  },
  {
   "cell_type": "markdown",
   "id": "4bcd84bf",
   "metadata": {
    "papermill": {
     "duration": 0.008496,
     "end_time": "2024-09-04T23:57:35.051813",
     "exception": false,
     "start_time": "2024-09-04T23:57:35.043317",
     "status": "completed"
    },
    "tags": []
   },
   "source": [
    "<span style=\"color: #000508; font-family: Segoe UI; font-size: 1.5em; font-weight: 300;\">Start Inference</span>"
   ]
  },
  {
   "cell_type": "code",
   "execution_count": 13,
   "id": "99307864",
   "metadata": {
    "execution": {
     "iopub.execute_input": "2024-09-04T23:57:35.071069Z",
     "iopub.status.busy": "2024-09-04T23:57:35.070267Z",
     "iopub.status.idle": "2024-09-04T23:57:35.076057Z",
     "shell.execute_reply": "2024-09-04T23:57:35.075101Z"
    },
    "papermill": {
     "duration": 0.017689,
     "end_time": "2024-09-04T23:57:35.078091",
     "exception": false,
     "start_time": "2024-09-04T23:57:35.060402",
     "status": "completed"
    },
    "tags": []
   },
   "outputs": [
    {
     "name": "stdout",
     "output_type": "stream",
     "text": [
      "Appending to main.py\n"
     ]
    }
   ],
   "source": [
    "%%writefile -a main.py\n",
    "preds = []\n",
    "with torch.no_grad():\n",
    "    bar = tqdm(enumerate(test_loader), total=len(test_loader))\n",
    "    for step, data in bar:        \n",
    "        images = data['image'].to(CONFIG[\"device\"], dtype=torch.float)        \n",
    "        batch_size = images.size(0)\n",
    "        outputs = model(images)\n",
    "        preds.append( outputs.detach().cpu().numpy() )\n",
    "preds = np.concatenate(preds).flatten()"
   ]
  },
  {
   "cell_type": "code",
   "execution_count": 14,
   "id": "db5f67ee",
   "metadata": {
    "execution": {
     "iopub.execute_input": "2024-09-04T23:57:35.097175Z",
     "iopub.status.busy": "2024-09-04T23:57:35.096838Z",
     "iopub.status.idle": "2024-09-04T23:57:35.102402Z",
     "shell.execute_reply": "2024-09-04T23:57:35.101538Z"
    },
    "papermill": {
     "duration": 0.017335,
     "end_time": "2024-09-04T23:57:35.104321",
     "exception": false,
     "start_time": "2024-09-04T23:57:35.086986",
     "status": "completed"
    },
    "tags": []
   },
   "outputs": [
    {
     "data": {
      "text/plain": [
       "'%%writefile -a main.py\\ndf_sub[\"target\"] = preds\\ndf_sub.to_csv(\"submission.csv\", index=False)'"
      ]
     },
     "execution_count": 14,
     "metadata": {},
     "output_type": "execute_result"
    }
   ],
   "source": [
    "\"\"\"%%writefile -a main.py\n",
    "df_sub[\"target\"] = preds\n",
    "df_sub.to_csv(\"submission.csv\", index=False)\"\"\""
   ]
  },
  {
   "cell_type": "code",
   "execution_count": 15,
   "id": "83046538",
   "metadata": {
    "execution": {
     "iopub.execute_input": "2024-09-04T23:57:35.124698Z",
     "iopub.status.busy": "2024-09-04T23:57:35.123777Z",
     "iopub.status.idle": "2024-09-04T23:57:35.130171Z",
     "shell.execute_reply": "2024-09-04T23:57:35.129098Z"
    },
    "papermill": {
     "duration": 0.018645,
     "end_time": "2024-09-04T23:57:35.132206",
     "exception": false,
     "start_time": "2024-09-04T23:57:35.113561",
     "status": "completed"
    },
    "tags": []
   },
   "outputs": [
    {
     "name": "stdout",
     "output_type": "stream",
     "text": [
      "Appending to main.py\n"
     ]
    }
   ],
   "source": [
    "%%writefile -a main.py\n",
    "df_sub[\"target\"] = preds\n",
    "df_sub.to_csv(\"submission.csv\", index=False)"
   ]
  },
  {
   "cell_type": "markdown",
   "id": "8faae78d",
   "metadata": {
    "papermill": {
     "duration": 0.009174,
     "end_time": "2024-09-04T23:57:35.150516",
     "exception": false,
     "start_time": "2024-09-04T23:57:35.141342",
     "status": "completed"
    },
    "tags": []
   },
   "source": [
    "# Test"
   ]
  },
  {
   "cell_type": "code",
   "execution_count": 16,
   "id": "7c7ac8ab",
   "metadata": {
    "execution": {
     "iopub.execute_input": "2024-09-04T23:57:35.170766Z",
     "iopub.status.busy": "2024-09-04T23:57:35.170365Z",
     "iopub.status.idle": "2024-09-04T23:58:09.601748Z",
     "shell.execute_reply": "2024-09-04T23:58:09.600634Z"
    },
    "papermill": {
     "duration": 34.444297,
     "end_time": "2024-09-04T23:58:09.604243",
     "exception": false,
     "start_time": "2024-09-04T23:57:35.159946",
     "status": "completed"
    },
    "tags": []
   },
   "outputs": [
    {
     "name": "stdout",
     "output_type": "stream",
     "text": [
      "/opt/conda/lib/python3.10/site-packages/albumentations/check_version.py:49: UserWarning: Error fetching version info <urlopen error [Errno -3] Temporary failure in name resolution>\r\n",
      "  data = fetch_version_info()\r\n",
      "BEST_WEIGHT = /kaggle/input/b1_efficientnet_384/pytorch/default/1/b1_AUROC0.5183_Loss0.2931.bin\r\n",
      "100%|█████████████████████████████████████████████| 1/1 [00:00<00:00,  1.08it/s]\r\n"
     ]
    }
   ],
   "source": [
    "!python main.py /kaggle/input/b1_efficientnet_384/pytorch/default/1/b1_AUROC0.5183_Loss0.2931.bin"
   ]
  },
  {
   "cell_type": "code",
   "execution_count": 17,
   "id": "563e37ea",
   "metadata": {
    "execution": {
     "iopub.execute_input": "2024-09-04T23:58:09.625046Z",
     "iopub.status.busy": "2024-09-04T23:58:09.624674Z",
     "iopub.status.idle": "2024-09-04T23:58:11.613804Z",
     "shell.execute_reply": "2024-09-04T23:58:11.612575Z"
    },
    "papermill": {
     "duration": 2.002323,
     "end_time": "2024-09-04T23:58:11.616267",
     "exception": false,
     "start_time": "2024-09-04T23:58:09.613944",
     "status": "completed"
    },
    "tags": []
   },
   "outputs": [
    {
     "name": "stdout",
     "output_type": "stream",
     "text": [
      "isic_id,target\r\n",
      "ISIC_0015657,0.95189315\r\n",
      "ISIC_0015729,0.028100021\r\n",
      "ISIC_0015740,0.25414944\r\n"
     ]
    }
   ],
   "source": [
    "!head submission.csv\n",
    "!rm submission.csv"
   ]
  },
  {
   "cell_type": "code",
   "execution_count": null,
   "id": "1e693dd7",
   "metadata": {
    "papermill": {
     "duration": 0.009176,
     "end_time": "2024-09-04T23:58:11.635102",
     "exception": false,
     "start_time": "2024-09-04T23:58:11.625926",
     "status": "completed"
    },
    "tags": []
   },
   "outputs": [],
   "source": []
  }
 ],
 "metadata": {
  "kaggle": {
   "accelerator": "gpu",
   "dataSources": [
    {
     "databundleVersionId": 9094797,
     "sourceId": 63056,
     "sourceType": "competition"
    },
    {
     "sourceId": 187730674,
     "sourceType": "kernelVersion"
    },
    {
     "isSourceIdPinned": true,
     "modelId": 114375,
     "modelInstanceId": 90149,
     "sourceId": 107614,
     "sourceType": "modelInstanceVersion"
    }
   ],
   "dockerImageVersionId": 30762,
   "isGpuEnabled": true,
   "isInternetEnabled": false,
   "language": "python",
   "sourceType": "notebook"
  },
  "kernelspec": {
   "display_name": "Python 3",
   "language": "python",
   "name": "python3"
  },
  "language_info": {
   "codemirror_mode": {
    "name": "ipython",
    "version": 3
   },
   "file_extension": ".py",
   "mimetype": "text/x-python",
   "name": "python",
   "nbconvert_exporter": "python",
   "pygments_lexer": "ipython3",
   "version": "3.10.14"
  },
  "papermill": {
   "default_parameters": {},
   "duration": 40.152943,
   "end_time": "2024-09-04T23:58:11.963272",
   "environment_variables": {},
   "exception": null,
   "input_path": "__notebook__.ipynb",
   "output_path": "__notebook__.ipynb",
   "parameters": {},
   "start_time": "2024-09-04T23:57:31.810329",
   "version": "2.6.0"
  }
 },
 "nbformat": 4,
 "nbformat_minor": 5
}
